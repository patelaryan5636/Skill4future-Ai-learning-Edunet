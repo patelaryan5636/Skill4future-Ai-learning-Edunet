{
 "cells": [
  {
   "cell_type": "code",
   "execution_count": null,
   "id": "2e0c2429-ba25-48e2-a12a-9c74ad8d2512",
   "metadata": {},
   "outputs": [],
   "source": [
    "# day 2 python fundamentals"
   ]
  },
  {
   "cell_type": "code",
   "execution_count": 75,
   "id": "2755ade4-e3ce-4fc2-a3dd-3d7e4b588e66",
   "metadata": {
    "panel-layout": {
     "height": 0,
     "visible": true,
     "width": 100
    }
   },
   "outputs": [
    {
     "name": "stdout",
     "output_type": "stream",
     "text": [
      "hello\n"
     ]
    }
   ],
   "source": [
    "print(\"hello\")"
   ]
  },
  {
   "cell_type": "code",
   "execution_count": null,
   "id": "d82a6699-b4e1-4928-a7e8-5d6e3ad8e6c1",
   "metadata": {},
   "outputs": [],
   "source": [
    "# variable naming convention"
   ]
  },
  {
   "cell_type": "code",
   "execution_count": 6,
   "id": "96becc63-daf8-421f-b03f-bb960f12e4d0",
   "metadata": {},
   "outputs": [
    {
     "name": "stdout",
     "output_type": "stream",
     "text": [
      "Hello\n",
      "Hello\n",
      "Hello\n",
      "Hello\n"
     ]
    }
   ],
   "source": [
    "myvar = \"Hello\"\n",
    "my_var = \"Hello\"\n",
    "_my_var = \"Hello\"\n",
    "myVar = \"Hello\"\n",
    "\n",
    "print(myvar)\n",
    "print(my_var)\n",
    "print(_my_var)\n",
    "print(myVar)"
   ]
  },
  {
   "cell_type": "code",
   "execution_count": 7,
   "id": "8a0be9f2-9eeb-42d9-bfa2-242add0057a6",
   "metadata": {},
   "outputs": [],
   "source": [
    "# local varible"
   ]
  },
  {
   "cell_type": "code",
   "execution_count": 8,
   "id": "49de4f5c-fce7-451d-9903-93c77dd216e7",
   "metadata": {},
   "outputs": [
    {
     "name": "stdout",
     "output_type": "stream",
     "text": [
      "10\n"
     ]
    }
   ],
   "source": [
    "def hello():\n",
    "    a = 10          # Here a is local variable\n",
    "    print(a) \n",
    "    return\n",
    "hello()\n"
   ]
  },
  {
   "cell_type": "code",
   "execution_count": null,
   "id": "3cfd613b-4451-4bdd-b462-047914d70582",
   "metadata": {},
   "outputs": [],
   "source": [
    "# local and global variable"
   ]
  },
  {
   "cell_type": "code",
   "execution_count": 9,
   "id": "fe82d612-37d0-4589-aa4c-af93dc82b780",
   "metadata": {},
   "outputs": [
    {
     "name": "stdout",
     "output_type": "stream",
     "text": [
      "20\n",
      "Welcome to Skillfor future 1.0\n"
     ]
    }
   ],
   "source": [
    "a = \"Welcome to Skillfor future 1.0\" # Here a is global variable\n",
    "def hello():\n",
    "    a = 20\n",
    "    print(a)  # Here a is local variable\n",
    "    return\n",
    "hello()\n",
    "print(a)\n"
   ]
  },
  {
   "cell_type": "code",
   "execution_count": 15,
   "id": "90d91cac-ae46-4c92-8332-d9d929cc3ef9",
   "metadata": {},
   "outputs": [],
   "source": [
    "## spliting keywords "
   ]
  },
  {
   "cell_type": "code",
   "execution_count": 16,
   "id": "110659c4-00cc-4c78-b64e-d07031bdc763",
   "metadata": {},
   "outputs": [
    {
     "name": "stdout",
     "output_type": "stream",
     "text": [
      "['Python', 'is', 'a', 'programming', 'language']\n",
      "['      Python is a ', 'rogramming language      ']\n"
     ]
    }
   ],
   "source": [
    "statement = \"      Python is a programming language      \"\n",
    "print(statement.split())\n",
    "print(statement.split('p'))"
   ]
  },
  {
   "cell_type": "code",
   "execution_count": null,
   "id": "b33bcb58-5bc1-441d-be95-7f79e16439a6",
   "metadata": {},
   "outputs": [],
   "source": [
    "#string format"
   ]
  },
  {
   "cell_type": "code",
   "execution_count": 17,
   "id": "c32cc142-cc16-48db-b162-67c7388685b7",
   "metadata": {},
   "outputs": [
    {
     "name": "stdout",
     "output_type": "stream",
     "text": [
      "My name is Aryan and I am 21 years old\n"
     ]
    }
   ],
   "source": [
    "name = \"Aryan\"\n",
    "age = 21\n",
    "print(\"My name is {} and I am {} years old\".format(name, age))\n"
   ]
  },
  {
   "cell_type": "code",
   "execution_count": null,
   "id": "fd7df8fc-3cf3-48f2-9f2b-5e7db9643254",
   "metadata": {},
   "outputs": [],
   "source": [
    "#string indexing"
   ]
  },
  {
   "cell_type": "code",
   "execution_count": 28,
   "id": "e5ccc585-c076-415b-bd4c-c475d03906ec",
   "metadata": {},
   "outputs": [
    {
     "name": "stdout",
     "output_type": "stream",
     "text": [
      "A\n",
      "nayrA\n"
     ]
    }
   ],
   "source": [
    "name = \"Aryan\"\n",
    "print(name[0])\n",
    "print(name[::-1])"
   ]
  },
  {
   "cell_type": "code",
   "execution_count": 30,
   "id": "fddcc790-491d-4210-8feb-9d66bd933145",
   "metadata": {},
   "outputs": [
    {
     "name": "stdout",
     "output_type": "stream",
     "text": [
      "['apple', 'banana', 'cherry']\n"
     ]
    }
   ],
   "source": [
    "#list \n",
    "fruits = [\"apple\", \"banana\"]\n",
    "fruits.append(\"cherry\")\n",
    "print(fruits)\n"
   ]
  },
  {
   "cell_type": "code",
   "execution_count": 31,
   "id": "a6d44a70-a220-4149-9870-b9d8de2abb0f",
   "metadata": {},
   "outputs": [
    {
     "name": "stdout",
     "output_type": "stream",
     "text": [
      "['apple', 'banana', 'cherry', 'Ford', 'BMW', 'Volvo']\n"
     ]
    }
   ],
   "source": [
    "fruits = ['apple', 'banana', 'cherry']\n",
    "cars = ['Ford', 'BMW', 'Volvo']\n",
    "\n",
    "fruits.extend(cars)\n",
    "print(fruits)\n"
   ]
  },
  {
   "cell_type": "code",
   "execution_count": 33,
   "id": "09cbe005-3950-42f5-ab95-4b36c64fe774",
   "metadata": {},
   "outputs": [
    {
     "name": "stdout",
     "output_type": "stream",
     "text": [
      "['apple', 'orange', 'banana', 'cherry']\n"
     ]
    }
   ],
   "source": [
    "fruits = ['apple', 'banana', 'cherry']\n",
    "\n",
    "fruits.insert(1, \"orange\") # insert orange at index 1\n",
    "print(fruits)\n"
   ]
  },
  {
   "cell_type": "code",
   "execution_count": 34,
   "id": "9b98dfbb-c83f-4b8d-8df7-fae5f08bf05e",
   "metadata": {},
   "outputs": [
    {
     "name": "stdout",
     "output_type": "stream",
     "text": [
      "('parul', 22, 'Bharat', 45.5, 'vadodara', 99)\n",
      "<class 'tuple'>\n"
     ]
    }
   ],
   "source": [
    "###tuple\n",
    "\n",
    "#create tuples -\n",
    "\n",
    "tup1 = \"parul\", 22, \"Bharat\", 45.5, \"vadodara\", 99\n",
    "\n",
    "print(tup1)\n",
    "print(type(tup1))\n"
   ]
  },
  {
   "cell_type": "code",
   "execution_count": 77,
   "id": "e54a6db4-b3fb-4841-8fd3-84fdd486023b",
   "metadata": {},
   "outputs": [
    {
     "data": {
      "text/plain": [
       "('Bharat', 45.5)"
      ]
     },
     "execution_count": 77,
     "metadata": {},
     "output_type": "execute_result"
    }
   ],
   "source": [
    "## tuple slicing\n",
    "tup1[2:4]"
   ]
  },
  {
   "cell_type": "code",
   "execution_count": 76,
   "id": "aba9fc55-b662-49d0-a41c-0b70373e390b",
   "metadata": {},
   "outputs": [],
   "source": [
    "## combine tuple\n",
    "tup2=(\"python\", 87)\n",
    "\n",
    "tup3 = tup1 + tup2\n"
   ]
  },
  {
   "cell_type": "code",
   "execution_count": 41,
   "id": "fe6664a6-ce13-4eae-98e9-c0ee4fad953f",
   "metadata": {},
   "outputs": [
    {
     "name": "stdout",
     "output_type": "stream",
     "text": [
      "('parul', 22, 'Bharat', 45.5, 'vadodara', 99, 'python', 87)\n"
     ]
    }
   ],
   "source": [
    "print(tup3)"
   ]
  },
  {
   "cell_type": "code",
   "execution_count": 43,
   "id": "f99ff2e9-9b18-4f6e-80ad-1b5ed8158dda",
   "metadata": {},
   "outputs": [
    {
     "name": "stdout",
     "output_type": "stream",
     "text": [
      "2\n"
     ]
    }
   ],
   "source": [
    "### tuple count method\n",
    "numbers = (1, 3, 7, 8, 7, 5, 4, 6, 8, 5)\n",
    "\n",
    "x = numbers.count(5)  # 5 is the element in tuple\n",
    "\n",
    "print(x)\n"
   ]
  },
  {
   "cell_type": "code",
   "execution_count": 51,
   "id": "6240a65b-8737-41a2-89c3-efd1e1f588ac",
   "metadata": {},
   "outputs": [
    {
     "name": "stdout",
     "output_type": "stream",
     "text": [
      "{'name': 'Doha', 'age': 22, 'city': 'Delhi'}\n",
      "Delhi\n",
      "<class 'dict'>\n"
     ]
    }
   ],
   "source": [
    "#dictionary \n",
    "my_dict = {\"name\": \"Doha\", \"age\": 22, \"city\": \"Delhi\"}\n",
    "print(my_dict)\n",
    "print(my_dict.get(\"city\", \"Not Found\"))\n",
    "print(type(my_dict))"
   ]
  },
  {
   "cell_type": "code",
   "execution_count": 56,
   "id": "d69743e4-4a99-484f-b984-ef30a0aec769",
   "metadata": {},
   "outputs": [
    {
     "name": "stdout",
     "output_type": "stream",
     "text": [
      "dict_keys(['name', 'age', 'city'])\n",
      "dict_values(['Doha', 22, 'Delhi'])\n"
     ]
    },
    {
     "data": {
      "text/plain": [
       "'Delhi'"
      ]
     },
     "execution_count": 56,
     "metadata": {},
     "output_type": "execute_result"
    }
   ],
   "source": [
    "#for keys and values of dictionary \n",
    "print(my_dict.keys())\n",
    "print(my_dict.values())\n",
    "my_dict[\"city\"]"
   ]
  },
  {
   "cell_type": "code",
   "execution_count": 59,
   "id": "d7f18412-7adc-4569-a23a-033deada6bd4",
   "metadata": {},
   "outputs": [
    {
     "name": "stdout",
     "output_type": "stream",
     "text": [
      "dict_items([('name', 'aryan'), ('age', 22), ('city', 'Delhi')])\n"
     ]
    }
   ],
   "source": [
    "#items\n",
    "my_dict.update({'name': \"aryan\"})\n",
    "print(my_dict.items())"
   ]
  },
  {
   "cell_type": "code",
   "execution_count": 63,
   "id": "2fbc8ed4-a231-437f-8515-824892bd2b41",
   "metadata": {},
   "outputs": [
    {
     "data": {
      "text/plain": [
       "['__add__',\n",
       " '__class__',\n",
       " '__class_getitem__',\n",
       " '__contains__',\n",
       " '__delattr__',\n",
       " '__delitem__',\n",
       " '__dir__',\n",
       " '__doc__',\n",
       " '__eq__',\n",
       " '__format__',\n",
       " '__ge__',\n",
       " '__getattribute__',\n",
       " '__getitem__',\n",
       " '__getstate__',\n",
       " '__gt__',\n",
       " '__hash__',\n",
       " '__iadd__',\n",
       " '__imul__',\n",
       " '__init__',\n",
       " '__init_subclass__',\n",
       " '__iter__',\n",
       " '__le__',\n",
       " '__len__',\n",
       " '__lt__',\n",
       " '__mul__',\n",
       " '__ne__',\n",
       " '__new__',\n",
       " '__reduce__',\n",
       " '__reduce_ex__',\n",
       " '__repr__',\n",
       " '__reversed__',\n",
       " '__rmul__',\n",
       " '__setattr__',\n",
       " '__setitem__',\n",
       " '__sizeof__',\n",
       " '__str__',\n",
       " '__subclasshook__',\n",
       " 'append',\n",
       " 'clear',\n",
       " 'copy',\n",
       " 'count',\n",
       " 'extend',\n",
       " 'index',\n",
       " 'insert',\n",
       " 'pop',\n",
       " 'remove',\n",
       " 'reverse',\n",
       " 'sort']"
      ]
     },
     "execution_count": 63,
     "metadata": {},
     "output_type": "execute_result"
    }
   ],
   "source": [
    "theater = {\n",
    "  \"Movie\": \"Pushpa\",\n",
    "  \"Actor\": \"Allu Arjun\",\n",
    "  \"year\": 2021\n",
    "}\n",
    "sorted(theater)\n",
    "\n",
    "\n",
    "dir(list)\n"
   ]
  },
  {
   "cell_type": "code",
   "execution_count": null,
   "id": "2a181145-886b-4683-8f0f-6d3a69bebd35",
   "metadata": {},
   "outputs": [],
   "source": []
  },
  {
   "cell_type": "code",
   "execution_count": 61,
   "id": "6b9eab9b-5850-42db-af7d-a3daa64f9c66",
   "metadata": {},
   "outputs": [
    {
     "name": "stdout",
     "output_type": "stream",
     "text": [
      "{'cherry', 'banana', 'apple'}\n"
     ]
    }
   ],
   "source": [
    "#### set\n",
    "\n",
    "\n",
    "fruits = {\"apple\", \"banana\"}\n",
    "fruits.add(\"cherry\")\n",
    "print(fruits)\n",
    "\n"
   ]
  },
  {
   "cell_type": "code",
   "execution_count": 62,
   "id": "c437bf9b-a697-481c-8649-41a775311095",
   "metadata": {},
   "outputs": [
    {
     "name": "stdout",
     "output_type": "stream",
     "text": [
      "{'Physics', 'Hindi', 'maths', 'Chemistry'}\n",
      "<class 'set'>\n",
      "{'Biology', 'Hindi', 'Social Science', 'History'}\n"
     ]
    },
    {
     "data": {
      "text/plain": [
       "{'Hindi'}"
      ]
     },
     "execution_count": 62,
     "metadata": {},
     "output_type": "execute_result"
    }
   ],
   "source": [
    "###set\n",
    "subjects1 = {'Physics', 'Hindi', 'Chemistry', 'maths', 'Hindi'}\n",
    "print(subjects1)\n",
    "print(type(subjects1))\n",
    "\n",
    "\n",
    "subjects2 = {'History', 'Social Science', 'Biology','Hindi'}\n",
    "print(subjects2)\n",
    "\n",
    "\n",
    "subjects1.union(subjects2) # This is another method to make union of two sets\n",
    "\n",
    "subjects1.intersection(subjects2)  # To find the common iterm in both the sets\n"
   ]
  },
  {
   "cell_type": "code",
   "execution_count": null,
   "id": "a75a51c5-0553-4134-bbd3-5f5c7bb76495",
   "metadata": {},
   "outputs": [],
   "source": []
  },
  {
   "cell_type": "code",
   "execution_count": 64,
   "id": "c73ceeaf-b024-4a90-8afa-85fd8af368a0",
   "metadata": {},
   "outputs": [
    {
     "name": "stdin",
     "output_type": "stream",
     "text": [
      "Enter Number   2\n"
     ]
    },
    {
     "name": "stdout",
     "output_type": "stream",
     "text": [
      "Positive number\n"
     ]
    }
   ],
   "source": [
    "### conditional statment\n",
    "\n",
    "\n",
    "number = int(input(\"Enter Number  \" ))\n",
    "\n",
    "if number > 0:\n",
    "    print(\"Positive number\")\n",
    "\n",
    "elif number == 0:\n",
    "    print('Zero')\n",
    "else:\n",
    "    print('Negative number')\n"
   ]
  },
  {
   "cell_type": "code",
   "execution_count": 65,
   "id": "0fe161f6-31bc-4a40-90ff-85d6fcab127c",
   "metadata": {},
   "outputs": [
    {
     "name": "stdout",
     "output_type": "stream",
     "text": [
      "Hello world\n",
      "Hello world\n",
      "Hello world\n",
      "This statement is always executed\n"
     ]
    }
   ],
   "source": [
    "counter = 0\n",
    "\n",
    "while counter < 3:\n",
    "    print('Hello world')\n",
    "    counter = counter + 1\n",
    "\n",
    "print('This statement is always executed')\n"
   ]
  },
  {
   "cell_type": "code",
   "execution_count": 67,
   "id": "94aba293-7c7d-4e3f-924f-b5da07d52d1e",
   "metadata": {},
   "outputs": [
    {
     "name": "stdout",
     "output_type": "stream",
     "text": [
      "[2, 3, 5, 7, 11, 13, 17, 19]\n"
     ]
    }
   ],
   "source": [
    "def is_prime(n):\n",
    "    \"\"\"Check if n is a prime number.\"\"\"\n",
    "    if n < 2:\n",
    "        return False\n",
    "    for i in range(2, int(n**0.5) + 1):  # check divisibility up to √n\n",
    "        if n % i == 0:\n",
    "            return False\n",
    "    return True\n",
    "\n",
    "# Generate primes from 0 to 20\n",
    "primes = [num for num in range(21) if is_prime(num)]\n",
    "print(primes)\n"
   ]
  },
  {
   "cell_type": "code",
   "execution_count": null,
   "id": "4e6cf140-0984-4c6d-a71e-aefc23d2589e",
   "metadata": {},
   "outputs": [],
   "source": []
  },
  {
   "cell_type": "code",
   "execution_count": 68,
   "id": "c809627d-a2f0-4bb7-89a2-980e2dff03a9",
   "metadata": {},
   "outputs": [
    {
     "name": "stdout",
     "output_type": "stream",
     "text": [
      "Total Bill Amount: 100\n"
     ]
    }
   ],
   "source": [
    "def calculate_bill(items, prices):\n",
    "    \"\"\"\n",
    "    Calculate total bill amount from lists of items and prices.\n",
    "\n",
    "    Args:\n",
    "        items (list): List of item names\n",
    "        prices (list): Corresponding list of prices\n",
    "\n",
    "    Returns:\n",
    "        float: Total amount of the bill\n",
    "    \"\"\"\n",
    "    if len(items) != len(prices):\n",
    "        raise ValueError(\"Items and prices lists must be of the same length.\")\n",
    "    \n",
    "    total = sum(prices)\n",
    "    return total\n",
    "\n",
    "# Example usage\n",
    "items = [\"apple\", \"banana\", \"cherry\"]\n",
    "prices = [50, 20, 30]\n",
    "\n",
    "total_amount = calculate_bill(items, prices)\n",
    "print(\"Total Bill Amount:\", total_amount)\n",
    "    "
   ]
  },
  {
   "cell_type": "code",
   "execution_count": null,
   "id": "d7533303-9a36-499f-875d-d5848e374a21",
   "metadata": {},
   "outputs": [],
   "source": []
  },
  {
   "cell_type": "code",
   "execution_count": 74,
   "id": "6b5cf415-1f67-4182-9ee7-10129149398c",
   "metadata": {},
   "outputs": [
    {
     "name": "stdout",
     "output_type": "stream",
     "text": [
      "Carbon Footprint: 105.0 kg CO2\n"
     ]
    }
   ],
   "source": [
    "def carbon_footprint(energy_kwh, emission_factor):\n",
    "    \"\"\"\n",
    "    Calculate carbon footprint based on energy consumption.\n",
    "\n",
    "    Args:\n",
    "        energy_kwh (float): Energy consumption in kilowatt-hours (kWh)\n",
    "        emission_factor (float): Emission factor in kg CO2 per kWh\n",
    "\n",
    "    Returns:\n",
    "        float: Carbon footprint in kg CO2\n",
    "    \"\"\"\n",
    "    if energy_kwh < 0 or emission_factor < 0:\n",
    "        raise ValueError(\"Energy consumption and emission factor must be non-negative.\")\n",
    "    \n",
    "    footprint = energy_kwh * emission_factor\n",
    "    return footprint\n",
    "\n",
    "# Example usage\n",
    "energy = 150  # kWh\n",
    "emission = 0.7  # kg CO2 per kWh\n",
    "\n",
    "carbon_emission = carbon_footprint(energy, emission)\n",
    "print(f\"Carbon Footprint: {carbon_emission} kg CO2\")\n"
   ]
  },
  {
   "cell_type": "code",
   "execution_count": null,
   "id": "32fd7bb9-9410-4143-aca4-a94f16fb40e8",
   "metadata": {},
   "outputs": [],
   "source": []
  },
  {
   "cell_type": "code",
   "execution_count": 70,
   "id": "31e4c5b4-a529-4a77-8d50-e4f218b7da42",
   "metadata": {},
   "outputs": [
    {
     "name": "stdout",
     "output_type": "stream",
     "text": [
      "Cities below sustainability threshold:\n",
      "London: 350 kg CO2\n",
      "Berlin: 300 kg CO2\n",
      "Delhi: 380 kg CO2\n"
     ]
    }
   ],
   "source": [
    "# Sample data: city name and carbon footprint (kg CO2)\n",
    "cities = [\n",
    "    (\"New York\", 500),\n",
    "    (\"London\", 350),\n",
    "    (\"Tokyo\", 420),\n",
    "    (\"Berlin\", 300),\n",
    "    (\"Delhi\", 380)\n",
    "]\n",
    "\n",
    "# Sustainability threshold\n",
    "threshold = 400\n",
    "\n",
    "# Lambda + filter to select cities below the threshold\n",
    "sustainable_cities = list(filter(lambda city: city[1] < threshold, cities))\n",
    "\n",
    "print(\"Cities below sustainability threshold:\")\n",
    "for city in sustainable_cities:\n",
    "    print(f\"{city[0]}: {city[1]} kg CO2\")\n"
   ]
  },
  {
   "cell_type": "code",
   "execution_count": null,
   "id": "0bbdb092-9106-4d71-ae9d-2cf97c64e5e8",
   "metadata": {},
   "outputs": [],
   "source": []
  },
  {
   "cell_type": "code",
   "execution_count": 81,
   "id": "421a3e6d-98d7-4d87-999d-c1d550e8a6d5",
   "metadata": {},
   "outputs": [
    {
     "name": "stdin",
     "output_type": "stream",
     "text": [
      "Enter the numerator:  7\n",
      "Enter the denominator:  47\n"
     ]
    },
    {
     "name": "stdout",
     "output_type": "stream",
     "text": [
      "Result: 0.14893617021276595\n"
     ]
    }
   ],
   "source": [
    "#exception handling\n",
    "try:\n",
    "    numerator = int(input(\"Enter the numerator: \"))\n",
    "    denominator = int(input(\"Enter the denominator: \"))\n",
    "    result = numerator / denominator\n",
    "    print(\"Result:\", result)\n",
    "except ZeroDivisionError:\n",
    "    print(\"Error: Cannot divide by zero.\")\n",
    "except ValueError:\n",
    "    print(\"Error: Please enter valid integers for numerator and denominator.\")\n"
   ]
  },
  {
   "cell_type": "code",
   "execution_count": null,
   "id": "36a289b7-7f20-4a8f-884f-43e826746379",
   "metadata": {},
   "outputs": [],
   "source": []
  },
  {
   "cell_type": "code",
   "execution_count": 90,
   "id": "2bf2d157-fd67-4e18-a129-68a6138d72be",
   "metadata": {},
   "outputs": [
    {
     "name": "stdout",
     "output_type": "stream",
     "text": [
      "Building A: 5000 kWh, 0.45 kg CO2/kWh\n",
      "2250.0\n",
      "500.0\n"
     ]
    }
   ],
   "source": [
    "###class\n",
    "  # Define the EnergySystem class\n",
    "class EnergySystem:\n",
    "    def __init__(self, building_name, energy_consumption, emission_factor):\n",
    "        # Initialize attributes\n",
    "        self.building_name = building_name\n",
    "        self.energy_consumption = energy_consumption  # in kWh\n",
    "        self.emission_factor = emission_factor  # kg CO2 per kWh\n",
    "\n",
    "        \n",
    "    #method to calculate carbon footprint\n",
    "    def carbon_footprint(self):\n",
    "            return self.energy_consumption * self.emission_factor\n",
    "\n",
    "    #method to calculate energy saving\n",
    "    def energy_saving(self):\n",
    "            return self.energy_consumption * 0.10\n",
    "\n",
    "# Example usage:\n",
    "building = EnergySystem(\"Building A\", 5000, 0.45)\n",
    "print(f\"{building.building_name}: {building.energy_consumption} kWh, {building.emission_factor} kg CO2/kWh\")\n",
    "\n",
    "carbon_calculate_footprint = building.carbon_footprint()\n",
    "calculate_energy_saving = building.energy_saving()\n",
    "\n",
    "print(carbon_calculate_footprint)\n",
    "print(calculate_energy_saving)\n"
   ]
  },
  {
   "cell_type": "code",
   "execution_count": 91,
   "id": "bd2de4e5-dd72-46bf-aca8-ff20c336a9a6",
   "metadata": {},
   "outputs": [
    {
     "name": "stdout",
     "output_type": "stream",
     "text": [
      "Net Energy Consumption: 3500 kWh\n"
     ]
    }
   ],
   "source": [
    "\n",
    "# Subclass SolarEnergySystem inheriting from EnergySystem\n",
    "class SolarEnergySystem(EnergySystem):\n",
    "    def __init__(self, building_name, energy_consumption, emission_factor, solar_production):\n",
    "        # Inherit attributes from the parent class\n",
    "        super().__init__(building_name, energy_consumption, emission_factor)\n",
    "        self.solar_production = solar_production  # energy produced by solar panels in kWh\n",
    "    \n",
    "    # Method to calculate net energy consumption (energy used - solar energy produced)\n",
    "    def net_energy_consumption(self):\n",
    "        return self.energy_consumption - self.solar_production\n",
    "\n",
    "# Example usage:\n",
    "solar_building = SolarEnergySystem(\"Solar Building\", 5000, 0.45, 1500)\n",
    "net_consumption = solar_building.net_energy_consumption()\n",
    "\n",
    "print(f\"Net Energy Consumption: {net_consumption} kWh\")\n"
   ]
  },
  {
   "cell_type": "code",
   "execution_count": 95,
   "id": "8b6e4a4c-f713-4562-bef9-4cb657019af4",
   "metadata": {},
   "outputs": [
    {
     "name": "stdout",
     "output_type": "stream",
     "text": [
      "Energy Consumption (accessed via method): 5000 kWh\n",
      "Energy Consumption (accessed via method): 2250.0 kWh\n"
     ]
    }
   ],
   "source": [
    "class EnergySystem:\n",
    "    def __init__(self, building_name, energy_consumption, emission_factor):\n",
    "        self.building_name = building_name\n",
    "        self._energy_consumption = energy_consumption  # Protected attribute\n",
    "        self._emission_factor = emission_factor  # Protected attribute\n",
    "\n",
    "    # Method to access energy consumption safely\n",
    "    def get_energy_consumption(self):\n",
    "        return self._energy_consumption\n",
    "\n",
    "    # Method to calculate carbon footprint\n",
    "    def calculate_carbon_footprint(self):\n",
    "        return self._energy_consumption * self._emission_factor\n",
    "\n",
    "# Example usage:\n",
    "building = EnergySystem(\"Building A\", 5000, 0.45)\n",
    "print(f\"Energy Consumption (accessed via method): {building.get_energy_consumption()} kWh\")\n",
    "print(f\"Energy Consumption (accessed via method): {building.calculate_carbon_footprint()} kWh\")\n"
   ]
  },
  {
   "cell_type": "code",
   "execution_count": null,
   "id": "bed51121-e77d-4dc6-b61b-b33df29e1eb2",
   "metadata": {},
   "outputs": [],
   "source": []
  },
  {
   "cell_type": "code",
   "execution_count": 96,
   "id": "6b81f5c8-b76d-4e92-9df2-771178339a68",
   "metadata": {},
   "outputs": [
    {
     "name": "stdout",
     "output_type": "stream",
     "text": [
      "Adjusted Carbon Footprint (after solar production): 1575.00 kg CO2\n"
     ]
    }
   ],
   "source": [
    "# Subclass SolarEnergySystem overriding the carbon footprint method\n",
    "class SolarEnergySystem(EnergySystem):\n",
    "    def __init__(self, building_name, energy_consumption, emission_factor, solar_production):\n",
    "        # Call the parent class constructor to initialize inherited attributes\n",
    "        super().__init__(building_name, energy_consumption, emission_factor)\n",
    "        self.solar_production = solar_production  # new attribute for solar energy production\n",
    "    \n",
    "    # Overriding the carbon footprint method to account for solar production\n",
    "    def calculate_carbon_footprint(self):\n",
    "        # Access energy consumption from the parent class (inherited attribute)\n",
    "        net_consumption = self._energy_consumption - self.solar_production\n",
    "        return net_consumption * self._emission_factor\n",
    "\n",
    "# Example usage:\n",
    "solar_building = SolarEnergySystem(\"Solar Building\", 5000, 0.45, 1500)\n",
    "carbon_footprint = solar_building.calculate_carbon_footprint()\n",
    "\n",
    "print(f\"Adjusted Carbon Footprint (after solar production): {carbon_footprint:.2f} kg CO2\")\n"
   ]
  },
  {
   "cell_type": "code",
   "execution_count": null,
   "id": "e3aa0af3-e42a-4056-ba93-29c9a81fafce",
   "metadata": {},
   "outputs": [],
   "source": []
  },
  {
   "cell_type": "code",
   "execution_count": null,
   "id": "0f1a0f51-115e-4e9b-a4ef-68f8972e0e5d",
   "metadata": {},
   "outputs": [],
   "source": []
  },
  {
   "cell_type": "code",
   "execution_count": null,
   "id": "1bd63801-0532-44e4-8d46-35288a313249",
   "metadata": {},
   "outputs": [],
   "source": []
  }
 ],
 "metadata": {
  "kernelspec": {
   "display_name": "Python 3 (ipykernel)",
   "language": "python",
   "name": "python3"
  },
  "language_info": {
   "codemirror_mode": {
    "name": "ipython",
    "version": 3
   },
   "file_extension": ".py",
   "mimetype": "text/x-python",
   "name": "python",
   "nbconvert_exporter": "python",
   "pygments_lexer": "ipython3",
   "version": "3.13.5"
  },
  "panel-cell-order": [
   "2755ade4-e3ce-4fc2-a3dd-3d7e4b588e66"
  ]
 },
 "nbformat": 4,
 "nbformat_minor": 5
}
