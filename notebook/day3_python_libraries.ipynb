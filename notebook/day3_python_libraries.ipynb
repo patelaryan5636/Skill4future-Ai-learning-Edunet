{
 "cells": [
  {
   "cell_type": "code",
   "execution_count": null,
   "id": "b0b62622-f892-496f-be40-56d5975bcfe4",
   "metadata": {},
   "outputs": [],
   "source": [
    "### welcome to numpy library "
   ]
  },
  {
   "cell_type": "code",
   "execution_count": 2,
   "id": "d0dd49da-46b4-4c67-ad0a-4e2617264945",
   "metadata": {},
   "outputs": [
    {
     "name": "stdout",
     "output_type": "stream",
     "text": [
      "(5,)\n",
      "1\n",
      "5\n",
      "int64\n"
     ]
    }
   ],
   "source": [
    "import numpy as np\n",
    "arr = np.array([10,20,30,40,50])\n",
    "print(arr.shape)\n",
    "print(arr.ndim)\n",
    "print(arr.size)\n",
    "print(arr.dtype)"
   ]
  },
  {
   "cell_type": "code",
   "execution_count": 3,
   "id": "db757f90-17d1-4960-8dc4-a55f48c61f6b",
   "metadata": {},
   "outputs": [
    {
     "name": "stdout",
     "output_type": "stream",
     "text": [
      "[20 30 40]\n"
     ]
    }
   ],
   "source": [
    "print(arr[1:4])"
   ]
  },
  {
   "cell_type": "code",
   "execution_count": 5,
   "id": "2672cce7-5458-4494-a995-d9ba8a46a7c2",
   "metadata": {},
   "outputs": [
    {
     "name": "stdout",
     "output_type": "stream",
     "text": [
      "[[5 6]\n",
      " [8 9]]\n"
     ]
    }
   ],
   "source": [
    "b = np.array([[1,2,3],[4,5,6],[7,8,9]])\n",
    "print(b[1:,1:])"
   ]
  },
  {
   "cell_type": "code",
   "execution_count": 13,
   "id": "14b15283-16b4-4ab7-8dc3-b467388c11a8",
   "metadata": {},
   "outputs": [
    {
     "data": {
      "text/plain": [
       "np.float64(160.14285714285714)"
      ]
     },
     "execution_count": 13,
     "metadata": {},
     "output_type": "execute_result"
    }
   ],
   "source": [
    "y = np.array([12,18,25,30,15,21,1000])\n",
    "y.mean()"
   ]
  },
  {
   "cell_type": "code",
   "execution_count": 14,
   "id": "2bacd83d-7553-42b5-93f3-0154fa587cfb",
   "metadata": {},
   "outputs": [
    {
     "name": "stdout",
     "output_type": "stream",
     "text": [
      "[[[1 2 3]\n",
      "  [4 5 6]]\n",
      "\n",
      " [[1 2 3]\n",
      "  [4 5 6]]]\n"
     ]
    }
   ],
   "source": [
    "arr = np.array([[[1, 2, 3], [4, 5, 6]], [[1, 2, 3], [4, 5, 6]]])\n",
    "\n",
    "print(arr)\n"
   ]
  },
  {
   "cell_type": "code",
   "execution_count": 15,
   "id": "3924db92-52fd-419a-b738-0713ee5f2b0b",
   "metadata": {},
   "outputs": [
    {
     "name": "stdout",
     "output_type": "stream",
     "text": [
      "0\n",
      "1\n",
      "2\n",
      "3\n"
     ]
    }
   ],
   "source": [
    "a = np.array(42)\n",
    "b = np.array([1, 2, 3, 4, 5])\n",
    "c = np.array([[1, 2, 3], [4, 5, 6]])\n",
    "d = np.array([[[1, 2, 3], [4, 5, 6]], [[1, 2, 3], [4, 5, 6]]])\n",
    "\n",
    "print(a.ndim)\n",
    "print(b.ndim)\n",
    "print(c.ndim)\n",
    "print(d.ndim)\n"
   ]
  },
  {
   "cell_type": "code",
   "execution_count": 16,
   "id": "3ef15a99-ef0f-46da-8d2b-874981752275",
   "metadata": {},
   "outputs": [],
   "source": [
    "import numpy as np \n",
    "a = np.array([[1,2,3,4,5],[1,2,3,4,5]]) \n",
    "np.save('outfile1',a)\n"
   ]
  },
  {
   "cell_type": "code",
   "execution_count": 17,
   "id": "0b3f5a3e-9412-4d9c-bf28-d54ad632fef8",
   "metadata": {},
   "outputs": [
    {
     "name": "stdout",
     "output_type": "stream",
     "text": [
      "[[1 2 3 4 5]\n",
      " [1 2 3 4 5]]\n"
     ]
    }
   ],
   "source": [
    "import numpy as np \n",
    "b = np.load('outfile1.npy') \n",
    "print(b) \n"
   ]
  },
  {
   "cell_type": "code",
   "execution_count": 18,
   "id": "c5d8defe-e6da-43d7-be71-636e534a1754",
   "metadata": {},
   "outputs": [
    {
     "name": "stdout",
     "output_type": "stream",
     "text": [
      "[1. 2. 3. 4. 5.]\n"
     ]
    }
   ],
   "source": [
    "a = np.array([1,2,3,4,5]) \n",
    "np.savetxt('out.txt',a) \n",
    "b = np.loadtxt('out.txt') \n",
    "print(b) \n"
   ]
  },
  {
   "cell_type": "code",
   "execution_count": 19,
   "id": "d95e7471-7701-4e0b-b80c-c95cb5921282",
   "metadata": {},
   "outputs": [
    {
     "name": "stdout",
     "output_type": "stream",
     "text": [
      "Elements of array:  [1 3 5 7 9]\n",
      "7\n",
      "Indexed Elements of array arr:  [9 1 5 9 7]\n"
     ]
    }
   ],
   "source": [
    "import numpy as np\n",
    "arr=np.arange(1,10,2) \n",
    "print(\"Elements of array: \",arr)\n",
    "print(arr[3])\n",
    "arr1=arr[np.array([4,0,2,-1,-2])]\n",
    "print(\"Indexed Elements of array arr: \",arr1)\n"
   ]
  },
  {
   "cell_type": "code",
   "execution_count": 20,
   "id": "5d8fc89e-e6ef-4a8b-9321-fe0756f13039",
   "metadata": {},
   "outputs": [
    {
     "name": "stdout",
     "output_type": "stream",
     "text": [
      "Array arr11: [0 1 2 3]\n",
      "Element at index 0 of arri is:  0\n",
      "Element at index 1 of arr1 is:  1\n"
     ]
    }
   ],
   "source": [
    "arr1=np.arange(4)\n",
    "print(\"Array arr11:\",arr1)\n",
    "print(\"Element at index 0 of arri is: \", arr1[0])\n",
    "print(\"Element at index 1 of arr1 is: \", arr1[1])\n"
   ]
  },
  {
   "cell_type": "code",
   "execution_count": 21,
   "id": "48c22379-7626-4bc6-ac23-5ff9bee62988",
   "metadata": {},
   "outputs": [
    {
     "name": "stdout",
     "output_type": "stream",
     "text": [
      "Array arr1:\n",
      " [[ 0  1  2  3  4  5]\n",
      " [ 6  7  8  9 10 11]]\n",
      "Element at 1st row and 2nd column of arr1 is: 8\n"
     ]
    }
   ],
   "source": [
    "arr=np.arange(12)\n",
    "\n",
    "arr1=arr.reshape(2,6)\n",
    "print(\"Array arr1:\\n\",arr1)\n",
    "# print(\"Element at eth row and eth column of arr1 is:\",arr1[2,2]) \n",
    "print(\"Element at 1st row and 2nd column of arr1 is:\", arr1[1,2])\n"
   ]
  },
  {
   "cell_type": "code",
   "execution_count": 24,
   "id": "313fce74-3448-4ea4-99c6-2699c3a37cf4",
   "metadata": {},
   "outputs": [
    {
     "name": "stdout",
     "output_type": "stream",
     "text": [
      "[[[ 0  1]\n",
      "  [ 2  3]]\n",
      "\n",
      " [[ 4  5]\n",
      "  [ 6  7]]\n",
      "\n",
      " [[ 8  9]\n",
      "  [10 11]]]\n"
     ]
    }
   ],
   "source": [
    "arr2 = arr.reshape(3,2,2)\n",
    "print(arr2)"
   ]
  },
  {
   "cell_type": "code",
   "execution_count": 25,
   "id": "6121715c-00a6-4b1f-9222-7123da5a6b93",
   "metadata": {},
   "outputs": [
    {
     "name": "stdout",
     "output_type": "stream",
     "text": [
      "Array arr1:\n",
      " [[[ 0  1  2]\n",
      "  [ 3  4  5]]\n",
      "\n",
      " [[ 6  7  8]\n",
      "  [ 9 10 11]]]\n",
      "Element: 4\n"
     ]
    }
   ],
   "source": [
    "arr=np.arange(12) \n",
    "arr1=arr.reshape(2,2,3) \n",
    "print(\"Array arr1:\\n\", arr1) \n",
    "print(\"Element:\", arr1[0,1,1])\n"
   ]
  },
  {
   "cell_type": "code",
   "execution_count": 26,
   "id": "c2f5cedd-cf16-45d6-9eb0-7ae5d987621d",
   "metadata": {},
   "outputs": [
    {
     "name": "stdout",
     "output_type": "stream",
     "text": [
      "array arr: [0 1 2 3 4 5]\n",
      "sliced element of array:  [1 2 3 4]\n"
     ]
    }
   ],
   "source": [
    "arr = np.arange(6) \n",
    "print(\"array arr:\",arr)\n",
    "print(\"sliced element of array: \", arr[1:5])\n"
   ]
  },
  {
   "cell_type": "code",
   "execution_count": 27,
   "id": "42a548f4-7936-42ec-a98b-51e8ae270f33",
   "metadata": {},
   "outputs": [
    {
     "name": "stdout",
     "output_type": "stream",
     "text": [
      "Array arr1: \n",
      " [[[ 0  1  2]\n",
      "  [ 3  4  5]]\n",
      "\n",
      " [[ 6  7  8]\n",
      "  [ 9 10 11]]]\n",
      "\n",
      "\n",
      "elements of 1st row and 1st column upto last column \n",
      " [[[ 7  8]\n",
      "  [10 11]]]\n"
     ]
    }
   ],
   "source": [
    "arr=np.arange(12)\n",
    "arr1=arr.reshape(2,2,3)\n",
    "print(\"Array arr1: \\n\",arr1)\n",
    "print(\"\\n\")\n",
    "print(\"elements of 1st row and 1st column upto last column \\n\", arr1[1:3,0:2,1:3])\n"
   ]
  },
  {
   "cell_type": "code",
   "execution_count": 28,
   "id": "08f3d556-3df7-4cce-8bc3-7177bd2b816c",
   "metadata": {},
   "outputs": [
    {
     "name": "stdout",
     "output_type": "stream",
     "text": [
      "First array:\n",
      "[[ 0.  0.  0.]\n",
      " [10. 10. 10.]\n",
      " [20. 20. 20.]\n",
      " [30. 30. 30.]]\n",
      "\n",
      "\n",
      "Second array:\n",
      "[1. 2. 3.]\n",
      "\n",
      "\n",
      "First Array + Second Array\n",
      "[[ 1.  2.  3.]\n",
      " [11. 12. 13.]\n",
      " [21. 22. 23.]\n",
      " [31. 32. 33.]]\n"
     ]
    }
   ],
   "source": [
    "a = np.array([[0.0,0.0,0.0],[10.0,10.0,10.0],[20.0,20.0,20.0],[30.0,30.0,30.0]]) \n",
    "b = np.array([1.0,2.0,3.0])  \n",
    "   \n",
    "print('First array:') \n",
    "print(a) \n",
    "print('\\n')  \n",
    "   \n",
    "print('Second array:') \n",
    "print(b) \n",
    "print('\\n')  \n",
    "   \n",
    "print('First Array + Second Array' )\n",
    "print( a + b)\n"
   ]
  },
  {
   "cell_type": "code",
   "execution_count": null,
   "id": "b0fc8053-2644-4c90-ba44-8499ffbcc4d7",
   "metadata": {},
   "outputs": [],
   "source": [
    "#Python program to demonstrate\n",
    "# Structured array"
   ]
  },
  {
   "cell_type": "code",
   "execution_count": 30,
   "id": "0973ec77-6bc0-4fee-a8f0-5cf24d7ebee4",
   "metadata": {},
   "outputs": [
    {
     "name": "stdout",
     "output_type": "stream",
     "text": [
      "<class 'numpy.ndarray'>\n"
     ]
    }
   ],
   "source": [
    "a = np.array([('Sana', 2, 21.0), ('Mansi', 7, 29.0)], \n",
    "             dtype=[('name', (np. str_, 10)), ('age', np.int32), ('weight', np.float64)])\n",
    "print(type(a))\n"
   ]
  },
  {
   "cell_type": "code",
   "execution_count": 31,
   "id": "f44099b6-63aa-4441-a4ab-c591b3b41467",
   "metadata": {},
   "outputs": [
    {
     "name": "stdout",
     "output_type": "stream",
     "text": [
      "[1 2 3 4 5 6]\n"
     ]
    }
   ],
   "source": [
    "arr = np.array([[1, 2, 3],\n",
    "                [4, 5, 6]])\n",
    "\n",
    "flat = arr.flatten()\n",
    "print(flat)"
   ]
  },
  {
   "cell_type": "code",
   "execution_count": 34,
   "id": "ce32e893-160e-4f5d-a041-4dbd3606a4da",
   "metadata": {},
   "outputs": [
    {
     "name": "stdout",
     "output_type": "stream",
     "text": [
      "The defined array is \n",
      "[[[20 24]\n",
      "  [42 13]\n",
      "  [15 10]\n",
      "  [23 24]\n",
      "  [15 25]\n",
      "  [44 14]\n",
      "  [33 15]\n",
      "  [34 21]]\n",
      "\n",
      " [[22 15]\n",
      "  [20 10]\n",
      "  [24 42]\n",
      "  [17 18]\n",
      "  [13 39]\n",
      "  [39 24]\n",
      "  [26 23]\n",
      "  [33 29]]\n",
      "\n",
      " [[20 12]\n",
      "  [15 38]\n",
      "  [31 43]\n",
      "  [38 40]\n",
      "  [37 40]\n",
      "  [26 14]\n",
      "  [23 14]\n",
      "  [31 28]]]\n",
      " \n",
      " The shape of the array is (3, 8, 2)\n"
     ]
    }
   ],
   "source": [
    "# Create a 2 D Array\n",
    "import numpy as np\n",
    "arravali = np.array(np.random.randint(10,45,(3,8,2)))\n",
    "print(f\"The defined array is \\n{arravali}\")\n",
    "print(f\" \\n The shape of the array is {arravali.shape}\")"
   ]
  },
  {
   "cell_type": "code",
   "execution_count": 35,
   "id": "fa45cadc-c799-42c5-9f6d-227d5f582214",
   "metadata": {},
   "outputs": [
    {
     "name": "stdout",
     "output_type": "stream",
     "text": [
      " The transpose of the array is \n",
      "[[[20 22 20]\n",
      "  [42 20 15]\n",
      "  [15 24 31]\n",
      "  [23 17 38]\n",
      "  [15 13 37]\n",
      "  [44 39 26]\n",
      "  [33 26 23]\n",
      "  [34 33 31]]\n",
      "\n",
      " [[24 15 12]\n",
      "  [13 10 38]\n",
      "  [10 42 43]\n",
      "  [24 18 40]\n",
      "  [25 39 40]\n",
      "  [14 24 14]\n",
      "  [15 23 14]\n",
      "  [21 29 28]]]\n",
      " \n",
      " The shape of the array is (2, 8, 3)\n"
     ]
    }
   ],
   "source": [
    "# Storing the transpose in another matrix object\n",
    "nilgiri =np.transpose(arravali)\n",
    "print(f\" The transpose of the array is \\n{nilgiri}\")\n",
    "print(f\" \\n The shape of the array is {nilgiri.shape}\")\n"
   ]
  },
  {
   "cell_type": "code",
   "execution_count": 36,
   "id": "fb960852-f341-4feb-bf98-61702417e399",
   "metadata": {},
   "outputs": [
    {
     "name": "stdout",
     "output_type": "stream",
     "text": [
      "The defined array is \n",
      "[[[30 19 25 36 23 23]\n",
      "  [33 25 10 27 27 43]\n",
      "  [19 35 36 15 40 33]\n",
      "  [41 29 43 40 34 27]]\n",
      "\n",
      " [[38 10 29 40 10 21]\n",
      "  [28 44 26 14 24 21]\n",
      "  [14 30 33 16 19 42]\n",
      "  [12 21 30 34 40 29]]]\n",
      " \n",
      " The shape of the array is (2, 4, 6)\n"
     ]
    }
   ],
   "source": [
    "# Intialize a 3D array\n",
    "random_3D_cohort = np.array(np.random.randint(10,45,(2,4,6)))\n",
    "print(f\"The defined array is \\n{random_3D_cohort}\")\n",
    "print(f\" \\n The shape of the array is {random_3D_cohort.shape}\")\n"
   ]
  },
  {
   "cell_type": "code",
   "execution_count": 38,
   "id": "3ecba9a7-5474-4800-9b20-1d77a0191cf2",
   "metadata": {},
   "outputs": [
    {
     "name": "stdout",
     "output_type": "stream",
     "text": [
      "The resized array is \n",
      "[[[30 19 25 36 23 23]\n",
      "  [33 25 10 27 27 43]\n",
      "  [19 35 36 15 40 33]\n",
      "  [41 29 43 40 34 27]\n",
      "  [38 10 29 40 10 21]\n",
      "  [28 44 26 14 24 21]\n",
      "  [14 30 33 16 19 42]\n",
      "  [12 21 30 34 40 29]]\n",
      "\n",
      " [[30 19 25 36 23 23]\n",
      "  [33 25 10 27 27 43]\n",
      "  [19 35 36 15 40 33]\n",
      "  [41 29 43 40 34 27]\n",
      "  [38 10 29 40 10 21]\n",
      "  [28 44 26 14 24 21]\n",
      "  [14 30 33 16 19 42]\n",
      "  [12 21 30 34 40 29]]\n",
      "\n",
      " [[30 19 25 36 23 23]\n",
      "  [33 25 10 27 27 43]\n",
      "  [19 35 36 15 40 33]\n",
      "  [41 29 43 40 34 27]\n",
      "  [38 10 29 40 10 21]\n",
      "  [28 44 26 14 24 21]\n",
      "  [14 30 33 16 19 42]\n",
      "  [12 21 30 34 40 29]]\n",
      "\n",
      " [[30 19 25 36 23 23]\n",
      "  [33 25 10 27 27 43]\n",
      "  [19 35 36 15 40 33]\n",
      "  [41 29 43 40 34 27]\n",
      "  [38 10 29 40 10 21]\n",
      "  [28 44 26 14 24 21]\n",
      "  [14 30 33 16 19 42]\n",
      "  [12 21 30 34 40 29]]]\n"
     ]
    }
   ],
   "source": [
    "# Resize the created 3D array\n",
    "new_shape = (4,8,6)\n",
    "resized_random_3D_cohort = np.resize(random_3D_cohort,new_shape)\n",
    "print(f\"The resized array is \\n{resized_random_3D_cohort}\")\n",
    "#print(f\" \\n The shape of the array is {resized_random_3D_cohort.shape}\")\n"
   ]
  },
  {
   "cell_type": "code",
   "execution_count": 43,
   "id": "84aa7572-6c8d-41d3-be58-26cbd2ef29b3",
   "metadata": {},
   "outputs": [
    {
     "data": {
      "text/plain": [
       "array([30, 19, 25, 36, 23, 23, 33, 25, 10, 27, 27, 43, 19, 35, 36, 15, 40,\n",
       "       33, 41, 29, 43, 40, 34, 27, 38, 10, 29, 40, 10, 21, 28, 44, 26, 14,\n",
       "       24, 21, 14, 30, 33, 16, 19, 42, 12, 21, 30, 34, 40, 29, 30, 19, 25,\n",
       "       36, 23, 23, 33, 25, 10, 27, 27, 43, 19, 35, 36, 15, 40, 33, 41, 29,\n",
       "       43, 40, 34, 27, 38, 10, 29, 40, 10, 21, 28, 44, 26, 14, 24, 21, 14,\n",
       "       30, 33, 16, 19, 42, 12, 21, 30, 34, 40, 29, 30, 19, 25, 36, 23, 23,\n",
       "       33, 25, 10, 27, 27, 43, 19, 35, 36, 15, 40, 33, 41, 29, 43, 40, 34,\n",
       "       27, 38, 10, 29, 40, 10, 21, 28, 44, 26, 14, 24, 21, 14, 30, 33, 16,\n",
       "       19, 42, 12, 21, 30, 34, 40, 29, 30, 19, 25, 36, 23, 23, 33, 25, 10,\n",
       "       27, 27, 43, 19, 35, 36, 15, 40, 33, 41, 29, 43, 40, 34, 27, 38, 10,\n",
       "       29, 40, 10, 21, 28, 44, 26, 14, 24, 21, 14, 30, 33, 16, 19, 42, 12,\n",
       "       21, 30, 34, 40, 29], dtype=int32)"
      ]
     },
     "execution_count": 43,
     "metadata": {},
     "output_type": "execute_result"
    }
   ],
   "source": [
    "resized_random_3D_cohort.flatten()"
   ]
  },
  {
   "cell_type": "code",
   "execution_count": 44,
   "id": "2ba0f035-a5cc-4b5f-a9c7-c3b526a54176",
   "metadata": {},
   "outputs": [
    {
     "data": {
      "text/plain": [
       "array([30, 30, 30, 30, 33, 33, 33, 33, 19, 19, 19, 19, 41, 41, 41, 41, 38,\n",
       "       38, 38, 38, 28, 28, 28, 28, 14, 14, 14, 14, 12, 12, 12, 12, 19, 19,\n",
       "       19, 19, 25, 25, 25, 25, 35, 35, 35, 35, 29, 29, 29, 29, 10, 10, 10,\n",
       "       10, 44, 44, 44, 44, 30, 30, 30, 30, 21, 21, 21, 21, 25, 25, 25, 25,\n",
       "       10, 10, 10, 10, 36, 36, 36, 36, 43, 43, 43, 43, 29, 29, 29, 29, 26,\n",
       "       26, 26, 26, 33, 33, 33, 33, 30, 30, 30, 30, 36, 36, 36, 36, 27, 27,\n",
       "       27, 27, 15, 15, 15, 15, 40, 40, 40, 40, 40, 40, 40, 40, 14, 14, 14,\n",
       "       14, 16, 16, 16, 16, 34, 34, 34, 34, 23, 23, 23, 23, 27, 27, 27, 27,\n",
       "       40, 40, 40, 40, 34, 34, 34, 34, 10, 10, 10, 10, 24, 24, 24, 24, 19,\n",
       "       19, 19, 19, 40, 40, 40, 40, 23, 23, 23, 23, 43, 43, 43, 43, 33, 33,\n",
       "       33, 33, 27, 27, 27, 27, 21, 21, 21, 21, 21, 21, 21, 21, 42, 42, 42,\n",
       "       42, 29, 29, 29, 29], dtype=int32)"
      ]
     },
     "execution_count": 44,
     "metadata": {},
     "output_type": "execute_result"
    }
   ],
   "source": [
    "resized_random_3D_cohort.flatten('F')"
   ]
  },
  {
   "cell_type": "code",
   "execution_count": 45,
   "id": "6bc1559c-12bf-43ff-8149-00a953bb6ee2",
   "metadata": {},
   "outputs": [
    {
     "name": "stdout",
     "output_type": "stream",
     "text": [
      "[[[19 17 12 11]\n",
      "  [15 19 15 17]\n",
      "  [10 13 15 18]]\n",
      "\n",
      " [[10 13 19 11]\n",
      "  [13 13 19 19]\n",
      "  [11 11 12 14]]]\n",
      "(2, 3, 4)\n"
     ]
    }
   ],
   "source": [
    "a = np.random.randint(10,20,(2,3,4))    # Axis 0 - 2 ; Axis 1 - 3 ; Axis 2 - 4\n",
    "print(a)\n",
    "print(a.shape)\n"
   ]
  },
  {
   "cell_type": "code",
   "execution_count": 46,
   "id": "d829cef6-875d-407b-99e4-f39d6338d30c",
   "metadata": {},
   "outputs": [
    {
     "data": {
      "text/plain": [
       "array([[[ 19,  17,  12,  11],\n",
       "        [ 15,  19,  15,  17],\n",
       "        [ 10,  13,  15,  18]],\n",
       "\n",
       "       [[100, 100, 100, 100],\n",
       "        [100, 100, 100, 100],\n",
       "        [100, 100, 100, 100]],\n",
       "\n",
       "       [[ 10,  13,  19,  11],\n",
       "        [ 13,  13,  19,  19],\n",
       "        [ 11,  11,  12,  14]]], dtype=int32)"
      ]
     },
     "execution_count": 46,
     "metadata": {},
     "output_type": "execute_result"
    }
   ],
   "source": [
    "np.insert(a,1,100,axis=0)"
   ]
  },
  {
   "cell_type": "code",
   "execution_count": 48,
   "id": "539f5639-6670-4ba0-a7dc-8d37cefbef68",
   "metadata": {},
   "outputs": [
    {
     "data": {
      "text/plain": [
       "array([[[19, 50, 17, 12, 11],\n",
       "        [15, 50, 19, 15, 17],\n",
       "        [10, 50, 13, 15, 18]],\n",
       "\n",
       "       [[10, 50, 13, 19, 11],\n",
       "        [13, 50, 13, 19, 19],\n",
       "        [11, 50, 11, 12, 14]]], dtype=int32)"
      ]
     },
     "execution_count": 48,
     "metadata": {},
     "output_type": "execute_result"
    }
   ],
   "source": [
    "np.insert(a,1,50,axis=2)"
   ]
  },
  {
   "cell_type": "code",
   "execution_count": 50,
   "id": "5cbdc071-ea5e-4404-a89b-f9d0e16a2915",
   "metadata": {},
   "outputs": [
    {
     "data": {
      "text/plain": [
       "array([[[5, 2, 3],\n",
       "        [3, 3, 5],\n",
       "        [3, 3, 4]]], dtype=int32)"
      ]
     },
     "execution_count": 50,
     "metadata": {},
     "output_type": "execute_result"
    }
   ],
   "source": [
    "# Delete along Axis=0\n",
    "np.delete(a,(0),axis = 0)\n"
   ]
  },
  {
   "cell_type": "code",
   "execution_count": null,
   "id": "616838d9-f10e-4b1e-b032-06092809024c",
   "metadata": {},
   "outputs": [],
   "source": [
    "    "
   ]
  },
  {
   "cell_type": "code",
   "execution_count": null,
   "id": "5ea2aceb-c876-458b-84b4-347f55a554f1",
   "metadata": {},
   "outputs": [],
   "source": []
  }
 ],
 "metadata": {
  "kernelspec": {
   "display_name": "Python 3 (ipykernel)",
   "language": "python",
   "name": "python3"
  },
  "language_info": {
   "codemirror_mode": {
    "name": "ipython",
    "version": 3
   },
   "file_extension": ".py",
   "mimetype": "text/x-python",
   "name": "python",
   "nbconvert_exporter": "python",
   "pygments_lexer": "ipython3",
   "version": "3.13.5"
  }
 },
 "nbformat": 4,
 "nbformat_minor": 5
}
